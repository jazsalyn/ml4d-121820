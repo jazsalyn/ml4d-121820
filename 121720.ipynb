{
 "cells": [
  {
   "cell_type": "code",
   "execution_count": 1,
   "metadata": {},
   "outputs": [],
   "source": [
    "# import requests and json - needed to make an API call\n",
    "import requests\n",
    "import json"
   ]
  },
  {
   "cell_type": "code",
   "execution_count": 2,
   "metadata": {},
   "outputs": [],
   "source": [
    "# this is the api endpoint to get a JSON of each department info\n",
    "nasa_api_url = 'https://api.nasa.gov/mars-photos/api/v1/rovers/curiosity/photos?sol=1000&api_key=Z4oPukKA71gltIsrPxEonHWf9h0KpJ4tSyHsdbHP'"
   ]
  },
  {
   "cell_type": "code",
   "execution_count": 3,
   "metadata": {},
   "outputs": [],
   "source": [
    "# calling the API with requests\n",
    "response = requests.get(nasa_api_url)\n",
    "# creating a variable called data to hold the json formatted result\n",
    "response_data = response.json()"
   ]
  },
  {
   "cell_type": "code",
   "execution_count": 4,
   "metadata": {},
   "outputs": [],
   "source": [
    "#print(type(response_data))\n",
    "#response_data"
   ]
  },
  {
   "cell_type": "code",
   "execution_count": 5,
   "metadata": {},
   "outputs": [],
   "source": [
    "# from the JSON above we only need the list with all department \"dictionaries\" in them\n",
    "# we'll store this in a variable called departments\n",
    "\n",
    "# get the list of photos from the data\n",
    "mars_photos = response_data['photos']"
   ]
  },
  {
   "cell_type": "code",
   "execution_count": null,
   "metadata": {},
   "outputs": [],
   "source": [
    "#Downloading images from array\n",
    "\n",
    "from PIL import Image\n",
    "from io import BytesIO\n",
    "import urllib.request\n",
    "\n",
    "#photo_data: a list of dictionaries\n",
    "#dictionary: an information structure with key-value pairs: img_src: http://something.something\n",
    "\n",
    "#loop through all the photo data we received from API call\n",
    "for photo_data in mars_photos:\n",
    "    #! wget -P \"./images/\" $photo_data\n",
    "    #print(photo_data[\"img_src\"])\n",
    "    \n",
    "    #retrieve the image url from the photo datapoint (dictionary)\n",
    "    photo_url = photo_data[\"img_src\"]\n",
    "    file_name = photo_url.split('/')[54:800]\n",
    "   \n",
    "    \n",
    "    \n",
    "    #retrieve the image data from the URL w/ a request\n",
    "    urllib.request.urlretrieve(photo_url, \"images/\" + file_name)\n",
    "    \n",
    "        #print(photo_url)"
   ]
  },
  {
   "cell_type": "code",
   "execution_count": null,
   "metadata": {},
   "outputs": [],
   "source": []
  }
 ],
 "metadata": {
  "kernelspec": {
   "display_name": "Python 3",
   "language": "python",
   "name": "python3"
  }
 },
 "nbformat": 4,
 "nbformat_minor": 4
}
